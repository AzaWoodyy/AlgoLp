{
 "cells": [
  {
   "cell_type": "code",
   "execution_count": 1,
   "metadata": {},
   "outputs": [
    {
     "name": "stdout",
     "output_type": "stream",
     "text": [
      "pygame 2.1.2 (SDL 2.0.16, Python 3.10.6)\n",
      "Hello from the pygame community. https://www.pygame.org/contribute.html\n",
      "(1024, 768)\n"
     ]
    },
    {
     "ename": "",
     "evalue": "",
     "output_type": "error",
     "traceback": [
      "\u001b[1;31mLe Kernel s’est bloqué lors de l’exécution du code dans la cellule active ou une cellule précédente. Veuillez vérifier le code dans la ou les cellules pour identifier une cause possible de l’échec. Cliquez <a href='https://aka.ms/vscodeJupyterKernelCrash'>ici</a> pour plus d’informations. Pour plus d’informations, consultez Jupyter <a href='command:jupyter.viewOutput'>log</a>."
     ]
    },
    {
     "ename": "",
     "evalue": "",
     "output_type": "error",
     "traceback": [
      "\u001b[1;31mCanceled future for execute_request message before replies were done"
     ]
    }
   ],
   "source": [
    "import random\n",
    "import sys, pygame\n",
    "from pygame import *\n",
    "pygame.init()\n",
    "\n",
    "w = 1024\n",
    "h = 768\n",
    "screen = pygame.display.set_mode((w,h))\n",
    "print(pygame.display.get_window_size())\n",
    "\n",
    "\n",
    "screen.fill((255, 100,0))\n",
    "\n",
    "# Rect(left, top, width, height)\n",
    "# pygame.drawrect(screen, (0, 0, 0), rect)\n",
    "# rect.colliderect(anotherRect) -> bool\n",
    "\n",
    "minX = 30\n",
    "maxX = 200\n",
    "minY = 30\n",
    "maxY = 200\n",
    "\n",
    "nbTest = 0\n",
    "nbTestMax = 1000\n",
    "nbRect = 0\n",
    "rects = []\n",
    "firstRect = Rect(random.randint(0, w), random.randint(0, h), random.randint(minX, maxX), random.randint(minY, maxY))\n",
    "pygame.draw.rect(screen, (0, 0, 0), firstRect)\n",
    "rects.append(firstRect)\n",
    "\n",
    "while(nbTest < nbTestMax):\n",
    "    nbTest = 0\n",
    "    i = 0\n",
    "    collided = False\n",
    "    width = random.randint(minX, maxX)\n",
    "    height = random.randint(minY, maxY)\n",
    "    left = random.randint(0, w)\n",
    "    top = random.randint(0, h)\n",
    "    rect = Rect(left, top, width, height)\n",
    "    while i<len(rects) and not collided:\n",
    "        collide = rects[i].colliderect(rect)\n",
    "        nbTest += 1\n",
    "        i += 1\n",
    "    pygame.draw.rect(screen, (255, 255, 255), rect)\n",
    "    nbRect += 1\n",
    "\n",
    "\n",
    "play = True\n",
    "clock = pygame.time.Clock()\n",
    "\n",
    "while play:\n",
    "    for event in pygame.event.get():\n",
    "        if event.type == pygame.QUIT:\n",
    "            play = False\n",
    "        if event.type == pygame.MOUSEMOTION:\n",
    "            pass\n",
    "            # print(event.pos)\n",
    "        if event.type == pygame.KEYUP:\n",
    "            print(event.key, event.unicode, event.scancode)\n",
    "            if event.key == pygame.K_ESCAPE:\n",
    "                play = False\n",
    "\n",
    "    # ICI ON AFFICHE ET ON BOUGE DES TRUCS\n",
    "\n",
    "    clock.tick(60)\n",
    "    pygame.display.flip()"
   ]
  }
 ],
 "metadata": {
  "kernelspec": {
   "display_name": "Python 3.10.6 64-bit",
   "language": "python",
   "name": "python3"
  },
  "language_info": {
   "codemirror_mode": {
    "name": "ipython",
    "version": 3
   },
   "file_extension": ".py",
   "mimetype": "text/x-python",
   "name": "python",
   "nbconvert_exporter": "python",
   "pygments_lexer": "ipython3",
   "version": "3.10.6"
  },
  "orig_nbformat": 4,
  "vscode": {
   "interpreter": {
    "hash": "916dbcbb3f70747c44a77c7bcd40155683ae19c65e1c03b4aa3499c5328201f1"
   }
  }
 },
 "nbformat": 4,
 "nbformat_minor": 2
}
