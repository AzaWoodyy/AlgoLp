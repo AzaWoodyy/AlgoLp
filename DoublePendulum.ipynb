{
 "cells": [
  {
   "cell_type": "code",
   "execution_count": 7,
   "id": "76372265",
   "metadata": {},
   "outputs": [
    {
     "name": "stdout",
     "output_type": "stream",
     "text": [
      "(800, 800)\n"
     ]
    },
    {
     "ename": "KeyboardInterrupt",
     "evalue": "",
     "output_type": "error",
     "traceback": [
      "\u001b[1;31m---------------------------------------------------------------------------\u001b[0m",
      "\u001b[1;31mKeyboardInterrupt\u001b[0m                         Traceback (most recent call last)",
      "\u001b[1;32m~\\AppData\\Local\\Temp/ipykernel_20648/372983225.py\u001b[0m in \u001b[0;36m<module>\u001b[1;34m\u001b[0m\n\u001b[0;32m     56\u001b[0m         \u001b[0mpoint\u001b[0m \u001b[1;33m=\u001b[0m \u001b[0mmemory\u001b[0m\u001b[1;33m[\u001b[0m\u001b[0mi\u001b[0m\u001b[1;33m]\u001b[0m\u001b[1;33m\u001b[0m\u001b[1;33m\u001b[0m\u001b[0m\n\u001b[0;32m     57\u001b[0m         \u001b[1;32mif\u001b[0m \u001b[0mi\u001b[0m \u001b[1;33m>\u001b[0m \u001b[1;36m0\u001b[0m\u001b[1;33m:\u001b[0m\u001b[1;33m\u001b[0m\u001b[1;33m\u001b[0m\u001b[0m\n\u001b[1;32m---> 58\u001b[1;33m             \u001b[0mpygame\u001b[0m\u001b[1;33m.\u001b[0m\u001b[0mdraw\u001b[0m\u001b[1;33m.\u001b[0m\u001b[0maaline\u001b[0m\u001b[1;33m(\u001b[0m\u001b[0mscreen\u001b[0m\u001b[1;33m,\u001b[0m \u001b[1;33m(\u001b[0m\u001b[1;36m200\u001b[0m\u001b[1;33m,\u001b[0m \u001b[1;36m100\u001b[0m\u001b[1;33m,\u001b[0m \u001b[1;36m200\u001b[0m\u001b[1;33m)\u001b[0m\u001b[1;33m,\u001b[0m \u001b[0mpoint\u001b[0m\u001b[1;33m,\u001b[0m \u001b[0mmemory\u001b[0m\u001b[1;33m[\u001b[0m\u001b[1;33m-\u001b[0m\u001b[1;36m1\u001b[0m\u001b[1;33m]\u001b[0m\u001b[1;33m)\u001b[0m\u001b[1;33m\u001b[0m\u001b[1;33m\u001b[0m\u001b[0m\n\u001b[0m\u001b[0;32m     59\u001b[0m \u001b[1;33m\u001b[0m\u001b[0m\n\u001b[0;32m     60\u001b[0m \u001b[1;33m\u001b[0m\u001b[0m\n",
      "\u001b[1;31mKeyboardInterrupt\u001b[0m: "
     ]
    }
   ],
   "source": [
    "import sys, pygame\n",
    "from math import *\n",
    "\n",
    "pygame.init()\n",
    "w, h = 800, 800\n",
    "screen = pygame.display.set_mode((w,h))\n",
    "print(pygame.display.get_window_size())\n",
    "\n",
    "\n",
    "# ICI ON DEFINIT DES TRUCS\n",
    "\n",
    "class Ball:\n",
    "    pass\n",
    "\n",
    "ball1 = Ball()\n",
    "ball1.radius = 200\n",
    "ball1.deltaAngle = pi/180\n",
    "ball1.angle = 0\n",
    "\n",
    "ball2 = Ball()\n",
    "ball2.radius = 150\n",
    "ball2.deltaAngle = pi/50\n",
    "ball2.angle = 0\n",
    "\n",
    "memory = []\n",
    "play = True\n",
    "clock = pygame.time.Clock()\n",
    "\n",
    "while play:\n",
    "    for event in pygame.event.get():\n",
    "        if event.type == pygame.QUIT:\n",
    "            play = False\n",
    "        if event.type == pygame.MOUSEMOTION:\n",
    "            pass\n",
    "            # print(event.pos)\n",
    "        if event.type == pygame.MOUSEBUTTONDOWN:\n",
    "            pass\n",
    "        if event.type == pygame.KEYUP:\n",
    "            print(event.key, event.unicode, event.scancode)\n",
    "            if event.key == pygame.K_ESCAPE:\n",
    "                play = False\n",
    "\n",
    "    screen.fill((0, 0,0))\n",
    "    p1x = cx + ball1.radius * cos(ball1.angle)\n",
    "    p1y = cy + ball1.radius * sin(ball1.angle)\n",
    "    p2x = p1x + ball2.radius * cos(ball2.angle)\n",
    "    p2y = p1y + ball2.radius * sin(ball2.angle)\n",
    "    center = [w/2, h/2]\n",
    "    cx, cy = center\n",
    "    if (len(memory) > 400):\n",
    "        memory.pop(0)\n",
    "\n",
    "    memory.append((p2x, p2y))\n",
    "    \n",
    "    for i in range (len(memory)):\n",
    "        point = memory[i]\n",
    "        if i > 0:\n",
    "            pygame.draw.aaline(screen, (200, 100, 200), point, memory[-1])\n",
    "    \n",
    "\n",
    "    pygame.draw.circle(screen, (255, 255, 255), (p1x, p1y), 25)\n",
    "    pygame.draw.aaline(screen, (255, 255, 255), center, (p1x, p1y))\n",
    "    \n",
    "\n",
    "    pygame.draw.circle(screen, (255, 0, 255), (p2x, p2y), 25)\n",
    "    pygame.draw.aaline(screen, (255, 0, 255), (p1x, p1y), (p2x, p2y))\n",
    "    # ICI ON AFFICHE ET ON BOUGE DES TRUCS\n",
    "    \n",
    "    ball1.angle += ball1.deltaAngle\n",
    "    ball2.angle += ball2.deltaAngle\n",
    "    \n",
    "    clock.tick(60)\n",
    "    pygame.display.flip()"
   ]
  },
  {
   "cell_type": "code",
   "execution_count": null,
   "id": "8cc2a83e",
   "metadata": {},
   "outputs": [],
   "source": []
  }
 ],
 "metadata": {
  "kernelspec": {
   "display_name": "Python 3 (ipykernel)",
   "language": "python",
   "name": "python3"
  },
  "language_info": {
   "codemirror_mode": {
    "name": "ipython",
    "version": 3
   },
   "file_extension": ".py",
   "mimetype": "text/x-python",
   "name": "python",
   "nbconvert_exporter": "python",
   "pygments_lexer": "ipython3",
   "version": "3.9.7"
  }
 },
 "nbformat": 4,
 "nbformat_minor": 5
}
