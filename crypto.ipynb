{
 "cells": [
  {
   "cell_type": "code",
   "execution_count": 43,
   "metadata": {},
   "outputs": [
    {
     "name": "stdout",
     "output_type": "stream",
     "text": [
      "RpgCljJ\n",
      "BonJouR\n"
     ]
    }
   ],
   "source": [
    "# Méthode de chiffrement Vigenere\n",
    "\n",
    "def codeVigenere(passcode, text):\n",
    "    passcode = passcode.lower()\n",
    "    textCaseArray = []\n",
    "\n",
    "    for l in text:\n",
    "        if(l.islower()):\n",
    "            textCaseArray.append(0)\n",
    "        else:\n",
    "            textCaseArray.append(1)\n",
    "\n",
    "    text = text.lower()\n",
    "    codedText = \"\"\n",
    "\n",
    "    i, j = 0, 0\n",
    "\n",
    "    for l in text:\n",
    "        if(textCaseArray[j] == 0):\n",
    "            codedText += chr((((ord(l) - 97) + (ord(passcode[i]) - 97)) % 26) + 98)\n",
    "        else:\n",
    "            codedText += chr((((ord(l) - 97) + (ord(passcode[i]) - 97)) % 26) + (98 - 32))\n",
    "\n",
    "        j += 1\n",
    "        i += 1\n",
    "        if(i == len(passcode)):\n",
    "            i = 0\n",
    "    \n",
    "    return codedText\n",
    "\n",
    "\n",
    "def decodeVigenere(passcode, codedText):\n",
    "    passcode = passcode.lower()\n",
    "\n",
    "    textCaseArray = []\n",
    "\n",
    "    for l in codedText:\n",
    "        if(l.islower()):\n",
    "            textCaseArray.append(0)\n",
    "        else:\n",
    "            textCaseArray.append(1)\n",
    "\n",
    "    codedText = codedText.lower()\n",
    "\n",
    "    i, j = 0, 0\n",
    "\n",
    "    decodedText = \"\"\n",
    "\n",
    "    for l in codedText:\n",
    "        if(textCaseArray[j] == 0):\n",
    "            decodedText += chr((((ord(l) - 97) - (ord(passcode[i]) - 95)) % 26) + 98)\n",
    "        else:\n",
    "            decodedText += chr((((ord(l) - 97) - (ord(passcode[i]) - 95)) % 26) + 66)\n",
    "\n",
    "        j += 1\n",
    "        i += 1\n",
    "        if(i == len(passcode)):\n",
    "            i = 0\n",
    "    \n",
    "    return decodedText\n",
    "\n",
    "\n",
    "codedMessage = codeVigenere(\"password\", \"BonJouR\")\n",
    "decodedMessage = decodeVigenere(\"password\", codedMessage)\n",
    "print(codedMessage)\n",
    "print(decodedMessage)"
   ]
  },
  {
   "cell_type": "code",
   "execution_count": 71,
   "metadata": {},
   "outputs": [
    {
     "name": "stdout",
     "output_type": "stream",
     "text": [
      "[19, 17]\n",
      "288\n",
      "5\n"
     ]
    }
   ],
   "source": [
    "# Méthode de chiffrement RSA\n",
    "\n",
    "import random\n",
    "\n",
    "def getPrimes(max):\n",
    "    primes = []\n",
    "    i = 2\n",
    "    while i < max:\n",
    "        isPrime = True\n",
    "        for j in range(2,int(i**.5)+1):\n",
    "            if i%j == 0:\n",
    "                isPrime = False\n",
    "                break\n",
    "        if isPrime:\n",
    "            primes.append(i)\n",
    "        i+=1\n",
    "\n",
    "    return primes\n",
    "\n",
    "def getNPrimeNumbers(n):\n",
    "    primeNumbers = getPrimes(100)\n",
    "    returnedPrimeN = []\n",
    "\n",
    "    for i in range(n):\n",
    "        returnedPrimeN.append(primeNumbers[random.randint(0, len(primeNumbers)-1)])\n",
    "\n",
    "    return returnedPrimeN\n",
    "\n",
    "def indicatriceEuler(n1, n2):\n",
    "    return (n1 - 1) * (n2 - 1)\n",
    "\n",
    "def findPrimeWith(idE):\n",
    "    a = idE\n",
    "    primeNumber = 0\n",
    "    for i in range(2, idE-1):\n",
    "        b = i\n",
    "        while (a%b) != 0:\n",
    "            rem = a % b\n",
    "            a = b\n",
    "            b = rem\n",
    "        if(b != 1):\n",
    "            b += 1\n",
    "        else:\n",
    "            primeNumber = i\n",
    "            break\n",
    "\n",
    "    return i\n",
    "\n",
    "primeNumbers = getNPrimeNumbers(2)\n",
    "idE = indicatriceEuler(primeNumbers[0], primeNumbers[1])\n",
    "primeWithIde = findPrimeWith(idE)\n",
    "print(primeNumbers)\n",
    "print(idE)\n",
    "print(primeWithIde)\n"
   ]
  }
 ],
 "metadata": {
  "kernelspec": {
   "display_name": "Python 3.10.7 64-bit",
   "language": "python",
   "name": "python3"
  },
  "language_info": {
   "codemirror_mode": {
    "name": "ipython",
    "version": 3
   },
   "file_extension": ".py",
   "mimetype": "text/x-python",
   "name": "python",
   "nbconvert_exporter": "python",
   "pygments_lexer": "ipython3",
   "version": "3.10.7"
  },
  "orig_nbformat": 4,
  "vscode": {
   "interpreter": {
    "hash": "369f2c481f4da34e4445cda3fffd2e751bd1c4d706f27375911949ba6bb62e1c"
   }
  }
 },
 "nbformat": 4,
 "nbformat_minor": 2
}
