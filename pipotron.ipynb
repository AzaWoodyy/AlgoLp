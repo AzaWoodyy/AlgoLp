{
 "cells": [
  {
   "cell_type": "code",
   "execution_count": 70,
   "metadata": {},
   "outputs": [],
   "source": [
    "# Pipotron (générateur de phrases)\n",
    "\n",
    "from random import choice\n",
    "\n",
    "# Abstract\n",
    "class Symbol:\n",
    "    def __init__(self, value):\n",
    "        self.value = value\n",
    "\n",
    "    def isTerminal(self):\n",
    "        return False;\n",
    "\n",
    "class Terminal(Symbol):\n",
    "    def isTerminal(self):\n",
    "        return True;\n",
    "\n",
    "class NonTerminal(Symbol):\n",
    "    def isTerminal(self):\n",
    "        return False;\n",
    "\n",
    "class Rule:\n",
    "    def __init__(self, left, right=[]):\n",
    "        self.left = left;\n",
    "        self.right = right;\n",
    "\n",
    "SUJET = [\"il\", \"elle\", \"Louis\",\"Romain\",\"Océane\",\"Thomas\",\"Quentin\",\"Emmanuel\",\"Aurélien\",\"Thomas\",\"Matheo\",\"Théo\",\"Lucas\",\"Tom\",\"Coralie\",\\\n",
    "\"Logan\",\"Quentin\",\"Enzo\",\"Thomas\",\"Maxime\",\"Noah\",\"Clément\",\"Aiolah\"]\n",
    "VERBE = [\"mange\", \"code\", \"boit\", \"aime\", \"porte\", \"frappe\", \"tape\", \"jette\", \"casse\"]\n",
    "TEXT = NonTerminal(\"TEXT\")\n",
    "PHRASE = NonTerminal(\"PHRASE\")\n",
    "COMPLEMENT =  SUJET\n",
    "rules = [\n",
    "    Rule( TEXT , [ PHRASE , TEXT ] ),\n",
    "    Rule( TEXT , [] ),\n",
    "    Rule( PHRASE , [ SUJET, VERBE, COMPLEMENT, Terminal(\".\") ])\n",
    "    \n",
    "]\n",
    "\n",
    "for term in SUJET:\n",
    "    rules.append( Rule( SUJET, [ Terminal(term) ]))\n",
    "    rules.append( Rule( COMPLEMENT, [ Terminal(term) ]))\n",
    "\n",
    "for verb in VERBE:\n",
    "    rules.append( Rule( VERBE, [ Terminal(verb) ]) )\n",
    "\n",
    "def randomRule(rules, left):\n",
    "    pass\n",
    "\n",
    "def randomRule(rules, left):\n",
    "    return choice(list(filter(lambda rule: rule.left == left, rules)))\n",
    "\n",
    "def generate(rules):\n",
    "    toDo = [ TEXT ]\n",
    "    while len(toDo) != 0:\n",
    "        current = toDo.pop(0)\n",
    "        if not current.isTerminal():\n",
    "            rule = randomRule(rules, current)\n",
    "            for s in reversed(rule.right):\n",
    "                toDo.insert(0, s)\n",
    "        else:\n",
    "            print(current, end=\" \")\n",
    "\n",
    "\n",
    "generate(rules)"
   ]
  }
 ],
 "metadata": {
  "kernelspec": {
   "display_name": "Python 3.10.6 64-bit",
   "language": "python",
   "name": "python3"
  },
  "language_info": {
   "codemirror_mode": {
    "name": "ipython",
    "version": 3
   },
   "file_extension": ".py",
   "mimetype": "text/x-python",
   "name": "python",
   "nbconvert_exporter": "python",
   "pygments_lexer": "ipython3",
   "version": "3.10.6"
  },
  "orig_nbformat": 4,
  "vscode": {
   "interpreter": {
    "hash": "916dbcbb3f70747c44a77c7bcd40155683ae19c65e1c03b4aa3499c5328201f1"
   }
  }
 },
 "nbformat": 4,
 "nbformat_minor": 2
}
