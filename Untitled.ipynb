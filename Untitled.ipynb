{
 "cells": [
  {
   "cell_type": "code",
   "execution_count": 2,
   "id": "4c9ecf34",
   "metadata": {},
   "outputs": [
    {
     "name": "stdout",
     "output_type": "stream",
     "text": [
      "(1024, 768)\n"
     ]
    }
   ],
   "source": [
    "import sys, pygame\n",
    "pygame.init()\n",
    "screen = pygame.display.set_mode((w,h))\n",
    "print(pygame.display.get_window_size())\n",
    "\n",
    "\n",
    "# ICI ON DEFINIT DES TRUCS\n",
    "\n",
    "\n",
    "\n",
    "\n",
    "play = True\n",
    "clock = pygame.time.Clock()\n",
    "\n",
    "while play:\n",
    "    for event in pygame.event.get():\n",
    "        if event.type == pygame.QUIT:\n",
    "            play = False\n",
    "        if event.type == pygame.MOUSEMOTION:\n",
    "            pass\n",
    "            # print(event.pos)\n",
    "        if event.type == pygame.KEYUP:\n",
    "            print(event.key, event.unicode, event.scancode)\n",
    "            if event.key == pygame.K_ESCAPE:\n",
    "                play = False\n",
    "\n",
    "    screen.fill((0, 0,0))\n",
    "\n",
    "    # ICI ON AFFICHE ET ON BOUGE DES TRUCS\n",
    "\n",
    "    clock.tick(60)\n",
    "    pygame.display.flip()"
   ]
  }
 ],
 "metadata": {
  "kernelspec": {
   "display_name": "Python 3.10.7 64-bit",
   "language": "python",
   "name": "python3"
  },
  "language_info": {
   "codemirror_mode": {
    "name": "ipython",
    "version": 3
   },
   "file_extension": ".py",
   "mimetype": "text/x-python",
   "name": "python",
   "nbconvert_exporter": "python",
   "pygments_lexer": "ipython3",
   "version": "3.10.7"
  },
  "vscode": {
   "interpreter": {
    "hash": "369f2c481f4da34e4445cda3fffd2e751bd1c4d706f27375911949ba6bb62e1c"
   }
  }
 },
 "nbformat": 4,
 "nbformat_minor": 5
}
