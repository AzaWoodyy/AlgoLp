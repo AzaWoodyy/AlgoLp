{
 "cells": [
  {
   "cell_type": "code",
   "execution_count": 1,
   "id": "12387c4f",
   "metadata": {},
   "outputs": [],
   "source": [
    "from PIL import Image\n",
    "import numpy as np\n",
    "import os\n",
    "\n",
    "def toAscii(filename, precision, extType, isChara):\n",
    "    t = np.asarray(Image.open(filename), dtype='int32')\n",
    "\n",
    "    if isChara == 0:\n",
    "        chars = ['@', 'Ø', 'Ñ', '¶', '&', 'Q', 'g', 'Õ', '©', '0', '$', 'Ö', 'M', 'Ô', 'Ã', 'Å', 'B', '%', 'N', 'W', 'Ð', '8', \n",
    "                 '§', 'Ò', 'Ó', 'Ä', 'ø', 'Â', 'ð', 'ß', '¾', 'æ', 'Æ', 'D', 'À', 'Á', 'Ü', 'O', 'Û', 'å', 'ã', 'G', '#', 'Ë', \n",
    "                 'õ', 'Ê', 'm', 'H', 'R', 'b', 'p', 'Ù', 'Ú', '¼', 'ä', 'ë', 'A', 'â', 'ö', 'ê', '9', 'ñ', 'ý', '6', '¢', '¤', \n",
    "                 'q', 'È', 'É', 'ô', 'd', '½', 'X', 'K', '¥', 'à', 'á', 'è', 'é', 'µ', 'ü', '4', 'U', 'w', 'ò', 'ó', 'û', 'h', \n",
    "                 'Þ', 'k', 'P', 'E', 'ù', 'ú', '£', 'S', 'V', 'y', 'Ï', 'Z', 'Ç', 'Î', 'a', 'e', '5', 'o', '2', 'j', '3', 'Ý', \n",
    "                 'Ì', 'Í', '®', 'n', 'u', 'C', ']', 'f', 't', 'x', '}', 'Y', 'I', '{', '1', '[', 'ï', 's', 'J', 'î', '±', 'z', \n",
    "                 'F', 'l', 'ç', 'º', 'ª', 'i', 'v', '(', '7', ')', 'ì', 'í', '|', 'T', 'c', 'L', 'r', '¿', '?', '×', '«', '/', \n",
    "                 '\\\\', '²', '»', '*', '+', '¦', '³', '°', '<', '=', '>', '÷', '!', '¡', '¹', ';', '^', '\"', '¬', ',', ':', '_', \n",
    "                 '-', \"'\", '.', '·', '¨', '¯', '`', '´', '¸', ' ', \" \", \" \"]\n",
    "    else:\n",
    "        chars = [\" \"]\n",
    "    \n",
    "    #Height x Width\n",
    "    h = len(t)\n",
    "    w = len(t[0])\n",
    "    print(\"Size =\",w,\"x\",h)\n",
    "    \n",
    "    nbBlocHori, nbBlocVerti = int(w/precision), int(0.4*h/precision)\n",
    "    blocWidth = int(w/nbBlocHori)\n",
    "    blocHeight = int(h/nbBlocVerti)\n",
    "    \n",
    "    s = \"\"\n",
    "    if extType == \"html\":\n",
    "        s+=\"<table styles='border-collapse: collapse'>\"\n",
    "\n",
    "    #Get Lumi per bloc\n",
    "    for iBlocVerti in range (0, nbBlocVerti):\n",
    "        if extType == \"html\":\n",
    "            s+= \"<tr>\"\n",
    "        for iBlocHori in range (0, nbBlocHori):\n",
    "            pixelsInBlocLumi = []\n",
    "            avgR = 0\n",
    "            avgG = 0\n",
    "            avgB = 0\n",
    "            offsetHori = blocWidth * iBlocHori\n",
    "            offsetVerti = blocHeight * iBlocVerti\n",
    "            for y in range (0, blocHeight):\n",
    "                for x in range (0, blocWidth):\n",
    "                    pixel = t[offsetVerti + y][offsetHori + x]\n",
    "                    light = (pixel[0]+pixel[1]+pixel[2])/3\n",
    "                    avgR += pixel[0]\n",
    "                    avgG += pixel[1]\n",
    "                    avgB += pixel[2]\n",
    "                    pixelsInBlocLumi.append(light)\n",
    "            blocLumi = np.average(pixelsInBlocLumi)\n",
    "            avgR = avgR / (blocWidth*blocHeight)\n",
    "            avgG = avgG / (blocWidth*blocHeight)\n",
    "            avgB = avgB / (blocWidth*blocHeight)\n",
    "            char = chars[ int((len(chars)-1) * (blocLumi) / 255)]\n",
    "\n",
    "            if extType == \"html\":\n",
    "                s+= \"<td style='display: inline-block; font-size: 7pt; font-family: Courier;\" \n",
    "                s+= \"background-color: rgb(\"+str(avgR)+\",\"+str(avgG)+\",\"+str(avgB)+\")'>\"\n",
    "                s+= char if char != \" \" else \"&nbsp;\"\n",
    "                s+= \"</td>\"\n",
    "            else:\n",
    "                s += char\n",
    "\n",
    "        if extType == \"html\":\n",
    "            s+= \"</tr>\"\n",
    "        else :\n",
    "            s += \"\\n\"\n",
    "            \n",
    "    if extType == \"html\":\n",
    "        s+= \"</table>\"\n",
    "        \n",
    "    #File treatment\n",
    "    newFilename, extension = os.path.splitext(filename)\n",
    "    f = open(newFilename+\".\"+extType, \"w\")\n",
    "    a = f.write(s)\n",
    "    f.close()"
   ]
  },
  {
   "cell_type": "code",
   "execution_count": 9,
   "id": "f03af54d",
   "metadata": {
    "scrolled": false
   },
   "outputs": [
    {
     "name": "stdout",
     "output_type": "stream",
     "text": [
      "Size = 1500 x 1500\n"
     ]
    }
   ],
   "source": [
    "#toAscii(\"TunicFoxResize.png\", 2, \"txt\")\n",
    "toAscii(\"pikachuv2.jpg\", 2, \"txt\", 0)"
   ]
  },
  {
   "cell_type": "code",
   "execution_count": null,
   "id": "385d4ba1",
   "metadata": {},
   "outputs": [],
   "source": []
  }
 ],
 "metadata": {
  "kernelspec": {
   "display_name": "Python 3 (ipykernel)",
   "language": "python",
   "name": "python3"
  },
  "language_info": {
   "codemirror_mode": {
    "name": "ipython",
    "version": 3
   },
   "file_extension": ".py",
   "mimetype": "text/x-python",
   "name": "python",
   "nbconvert_exporter": "python",
   "pygments_lexer": "ipython3",
   "version": "3.9.7"
  }
 },
 "nbformat": 4,
 "nbformat_minor": 5
}
